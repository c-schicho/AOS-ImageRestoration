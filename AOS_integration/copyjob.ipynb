{
 "cells": [
  {
   "cell_type": "markdown",
   "metadata": {},
   "source": [
    "# Setup for CV project\n",
    "\n",
    "## 0. Clone the AOS git repo\n",
    "\n",
    "We will need some parts of this repo for our project, so first, we will clone it from github:\n",
    "\n",
    "```\n",
    "https://github.com/JKU-ICG/AOS/tree/stable_release\n",
    "```\n",
    "\n",
    "Within this repo, we are only interest in the follwing subdirectory:\n",
    "\n",
    "```\n",
    "AOS\\AOS for Drone Swarms\\LFR\n",
    "```\n",
    "\n",
    "Since we will not contribute to the repo but only use some contents, we can (and should) just copy the subdirectory to our chosen project folder.\n",
    "\n",
    "## 1. Download Data and Code base\n",
    "\n",
    "We find 6 zipped folders of image data, a folder of real images (not used) a jupyter notebook and python script for the AOS integrator and a readme in the following google drive folder:\n",
    "\n",
    "```\n",
    "https://drive.google.com/drive/folders/1UC6sGGWkRpJjqyYOnqByaa_mxeucFmqJ\n",
    "```\n",
    "\n",
    "download and/or copy the whole AOSTD directory into our chosen project folder.\n",
    "## 2. Create a conda env\n",
    "\n",
    "In the anaconda prompt, execute:\n",
    "\n",
    "```\n",
    "conda create --name cvproj python==3.7.9\n",
    "```\n",
    "\n",
    "## 3. Add further packages to the envorinment\n",
    "\n",
    "Navigate your conda terminal to the LFR folder we just made a copy of in our working directory (step 0).\n",
    "\n",
    "Specifically, we want to navigate to the \"python\" subfolder within the LFR directory:\n",
    "\n",
    "```\n",
    "LFR\\python\n",
    "```\n",
    "\n",
    "There we will find the requirements.txt file.\n",
    "\n",
    "Before we can install the requirements for our new environment, we have to activate it:\n",
    "\n",
    "```\n",
    "conda activate cvproj\n",
    "```\n",
    "\n",
    "Now, we should now be able to install the requirements by executing:\n",
    "\n",
    "```\n",
    "pip install -r requirements.txt\n",
    "```\n",
    "\n",
    "## 4. Compile python bindings\n",
    "\n",
    "Now we need to compile the python bindings.\n",
    "After processing the steps before, we should be in the following situation:\n",
    "\n",
    "* active working directory looks like: path\\project_folder\\LFR\\python\n",
    "* active environment is our newly created and updated cvproj\n",
    "* project folder looks like so:\n",
    "```\n",
    "    project_folder\n",
    "            |---copyjob.ipynb (this notebook)\n",
    "            |---AOSTD\n",
    "            |---LFR\n",
    "                 |---python (active working directory)\n",
    "                        |---setup_Win.py\n",
    "```\n",
    "\n",
    "From LFR\\python, we want to execute the following line, using our new environment:\n",
    "\n",
    "```\n",
    "python setup_Win.py build_ext --inplace\n",
    "```\n"
   ]
  },
  {
   "cell_type": "code",
   "execution_count": null,
   "metadata": {},
   "outputs": [],
   "source": [
    "import shutil\n",
    "import os\n",
    "import glob"
   ]
  },
  {
   "cell_type": "code",
   "execution_count": null,
   "metadata": {},
   "outputs": [],
   "source": [
    "path_AOSTD = r\"AOSTD\"\n",
    "path_python_wd = r\"AOS/AOS for Drone Swarms/LFR/python\""
   ]
  },
  {
   "cell_type": "code",
   "execution_count": null,
   "metadata": {},
   "outputs": [],
   "source": [
    "path_for_input_images = os.path.join(path_python_wd, r\"input_Image\")\n",
    "path_for_output_images = os.path.join(path_python_wd, r\"sav_Res\")\n",
    "path_to_test_images = os.path.join(path_AOSTD, r\"batch_20230912_part2/Part2\")\n",
    "pattern_to_identify_test_images = r\"5501_pose\"\n",
    "filename_aosintegrator_notebook = \"AOS_integrator.ipynb\"\n",
    "filename_aosintegrator_script = \"AOS_integrator.py\""
   ]
  },
  {
   "cell_type": "code",
   "execution_count": null,
   "metadata": {},
   "outputs": [],
   "source": [
    "os.makedirs(path_for_output_images, exist_ok=True)\n",
    "os.makedirs(path_for_input_images, exist_ok=True)"
   ]
  },
  {
   "cell_type": "code",
   "execution_count": null,
   "metadata": {},
   "outputs": [],
   "source": [
    "# copy AOS integrator notebook and script\n",
    "shutil.copy2(os.path.join(path_AOSTD,filename_aosintegrator_notebook),\n",
    "             os.path.join(path_python_wd, filename_aosintegrator_notebook))\n",
    "shutil.copy2(os.path.join(path_AOSTD,filename_aosintegrator_script),\n",
    "             os.path.join(path_python_wd, filename_aosintegrator_script))"
   ]
  },
  {
   "cell_type": "code",
   "execution_count": null,
   "metadata": {},
   "outputs": [],
   "source": [
    "all_images = os.listdir(path_to_test_images)"
   ]
  },
  {
   "cell_type": "code",
   "execution_count": null,
   "metadata": {},
   "outputs": [],
   "source": [
    "test_img = [img for img in all_images if pattern_to_identify_test_images in img]"
   ]
  },
  {
   "cell_type": "code",
   "execution_count": null,
   "metadata": {},
   "outputs": [],
   "source": [
    "if len(test_img) < 50:\n",
    "    for img in test_img:\n",
    "        shutil.copy2(\n",
    "            os.path.join(path_to_test_images,img),\n",
    "            path_for_input_images\n",
    "        )"
   ]
  },
  {
   "cell_type": "code",
   "execution_count": null,
   "metadata": {},
   "outputs": [],
   "source": [
    "path_to_GT_images = os.path.join(path_AOSTD, r\"batch_20231027_Part2/Part2\")"
   ]
  },
  {
   "cell_type": "code",
   "execution_count": null,
   "metadata": {},
   "outputs": [],
   "source": [
    "all_images = os.listdir(path_to_GT_images)"
   ]
  },
  {
   "cell_type": "code",
   "execution_count": null,
   "metadata": {},
   "outputs": [],
   "source": [
    "gt_img = [img for img in all_images if \"_Parameters\" in img]"
   ]
  },
  {
   "cell_type": "code",
   "execution_count": null,
   "metadata": {},
   "outputs": [],
   "source": [
    "path_gt_folder = os.path.join(path_AOSTD, \"batch_20231027_Part2_Parameters\")"
   ]
  },
  {
   "cell_type": "code",
   "execution_count": null,
   "metadata": {},
   "outputs": [],
   "source": [
    "if not os.path.exists(path_gt_folder):\n",
    "    os.makedirs(path_gt_folder)\n",
    "    print(\"new dir created\")"
   ]
  },
  {
   "cell_type": "code",
   "execution_count": null,
   "metadata": {},
   "outputs": [],
   "source": [
    "for img in gt_img:\n",
    "    shutil.copy2(\n",
    "        os.path.join(path_to_GT_images,img),\n",
    "        path_gt_folder\n",
    "    )"
   ]
  }
 ],
 "metadata": {
  "kernelspec": {
   "display_name": "cvproj",
   "language": "python",
   "name": "python3"
  },
  "language_info": {
   "codemirror_mode": {
    "name": "ipython",
    "version": 3
   },
   "file_extension": ".py",
   "mimetype": "text/x-python",
   "name": "python",
   "nbconvert_exporter": "python",
   "pygments_lexer": "ipython3",
   "version": "3.7.9"
  }
 },
 "nbformat": 4,
 "nbformat_minor": 2
}
